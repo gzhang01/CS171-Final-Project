{
 "cells": [
  {
   "cell_type": "code",
   "execution_count": 1,
   "metadata": {
    "collapsed": true
   },
   "outputs": [],
   "source": [
    "import requests\n",
    "import pandas as pd\n",
    "HEADERS = {'user-agent': ('Mozilla/5.0 (Macintosh; Intel Mac OS X 10_10_5) '\n",
    "                          'AppleWebKit/537.36 (KHTML, like Gecko) '\n",
    "                          'Chrome/45.0.2454.101 Safari/537.36'),\n",
    "           'referer': 'http://stats.nba.com/scores/'\n",
    "          }"
   ]
  },
  {
   "cell_type": "code",
   "execution_count": 2,
   "metadata": {
    "collapsed": true
   },
   "outputs": [],
   "source": [
    "varejao_url = 'http://stats.nba.com/stats/shotchartdetail?Period=0&VsConference=&LeagueID=00&LastNGames=0&TeamID=0&Position=&Location=&Outcome=&ContextMeasure=FGA&DateFrom=&StartPeriod=&DateTo=&OpponentTeamID=0&ContextFilter=&RangeType=&Season=2015-16&AheadBehind=&PlayerID=2760&EndRange=&VsDivision=&PointDiff=&RookieYear=&GameSegment=&Month=0&ClutchTime=&StartRange=&EndPeriod=&SeasonType=Regular+Season&SeasonSegment=&GameID='"
   ]
  },
  {
   "cell_type": "code",
   "execution_count": 3,
   "metadata": {
    "collapsed": false
   },
   "outputs": [],
   "source": [
    "response = requests.get(varejao_url, headers=HEADERS)"
   ]
  },
  {
   "cell_type": "code",
   "execution_count": 4,
   "metadata": {
    "collapsed": true
   },
   "outputs": [],
   "source": [
    "headers = response.json()['resultSets'][0]['headers']"
   ]
  },
  {
   "cell_type": "code",
   "execution_count": 5,
   "metadata": {
    "collapsed": true
   },
   "outputs": [],
   "source": [
    "varejao_shots = response.json()['resultSets'][0]['rowSet']\n"
   ]
  },
  {
   "cell_type": "code",
   "execution_count": 6,
   "metadata": {
    "collapsed": false
   },
   "outputs": [],
   "source": [
    "varejao_df = pd.DataFrame(varejao_shots, columns=headers)"
   ]
  },
  {
   "cell_type": "code",
   "execution_count": 7,
   "metadata": {
    "collapsed": false
   },
   "outputs": [],
   "source": [
    "varejao_df = varejao_df.loc[varejao_df['TEAM_NAME'] =='Golden State Warriors']"
   ]
  },
  {
   "cell_type": "code",
   "execution_count": 8,
   "metadata": {
    "collapsed": false
   },
   "outputs": [],
   "source": [
    "varejao_df.to_csv('/Users/MWoo/Documents/cs171_final/varejao_df.csv')"
   ]
  },
  {
   "cell_type": "code",
   "execution_count": 9,
   "metadata": {
    "collapsed": false
   },
   "outputs": [],
   "source": [
    "# Getting Iguodala shot data\n",
    "iguodala_url = 'http://stats.nba.com/stats/shotchartdetail?Period=0&VsConference=&LeagueID=00&LastNGames=0&TeamID=0&Position=&Location=&Outcome=&ContextMeasure=FGA&DateFrom=&StartPeriod=&DateTo=&OpponentTeamID=0&ContextFilter=&RangeType=&Season=2015-16&AheadBehind=&PlayerID=2738&EndRange=&VsDivision=&PointDiff=&RookieYear=&GameSegment=&Month=0&ClutchTime=&StartRange=&EndPeriod=&SeasonType=Regular+Season&SeasonSegment=&GameID='\n",
    "response = requests.get(iguodala_url, headers=HEADERS)\n",
    "headers = response.json()['resultSets'][0]['headers']\n",
    "iguodala_shots = response.json()['resultSets'][0]['rowSet']\n",
    "iguodala_df = pd.DataFrame(iguodala_shots, columns=headers)\n",
    "iguodala_df.to_csv('/Users/MWoo/Documents/cs171_final/iguodala_df.csv')"
   ]
  },
  {
   "cell_type": "code",
   "execution_count": 10,
   "metadata": {
    "collapsed": true
   },
   "outputs": [],
   "source": [
    "# Getting Bogut shot data\n",
    "bogut_url = 'http://stats.nba.com/stats/shotchartdetail?Period=0&VsConference=&LeagueID=00&LastNGames=0&TeamID=0&Position=&Location=&Outcome=&ContextMeasure=FGA&DateFrom=&StartPeriod=&DateTo=&OpponentTeamID=0&ContextFilter=&RangeType=&Season=2015-16&AheadBehind=&PlayerID=101106&EndRange=&VsDivision=&PointDiff=&RookieYear=&GameSegment=&Month=0&ClutchTime=&StartRange=&EndPeriod=&SeasonType=Regular+Season&SeasonSegment=&GameID='\n",
    "response = requests.get(bogut_url, headers=HEADERS)\n",
    "headers = response.json()['resultSets'][0]['headers']\n",
    "bogut_shots = response.json()['resultSets'][0]['rowSet']\n",
    "bogut_df = pd.DataFrame(bogut_shots, columns=headers)\n",
    "bogut_df.to_csv('/Users/MWoo/Documents/cs171_final/bogut_df.csv')"
   ]
  },
  {
   "cell_type": "code",
   "execution_count": 11,
   "metadata": {
    "collapsed": true
   },
   "outputs": [],
   "source": [
    "# Getting Brandon Rush shot data\n",
    "rush_url = 'http://stats.nba.com/stats/shotchartdetail?Period=0&VsConference=&LeagueID=00&LastNGames=0&TeamID=0&Position=&Location=&Outcome=&ContextMeasure=FGA&DateFrom=&StartPeriod=&DateTo=&OpponentTeamID=0&ContextFilter=&RangeType=&Season=2015-16&AheadBehind=&PlayerID=201575&EndRange=&VsDivision=&PointDiff=&RookieYear=&GameSegment=&Month=0&ClutchTime=&StartRange=&EndPeriod=&SeasonType=Regular+Season&SeasonSegment=&GameID='\n",
    "response = requests.get(rush_url, headers=HEADERS)\n",
    "headers = response.json()['resultSets'][0]['headers']\n",
    "rush_shots = response.json()['resultSets'][0]['rowSet']\n",
    "rush_df = pd.DataFrame(rush_shots, columns=headers)\n",
    "rush_df.to_csv('/Users/MWoo/Documents/cs171_final/rush_df.csv')"
   ]
  },
  {
   "cell_type": "code",
   "execution_count": 12,
   "metadata": {
    "collapsed": true
   },
   "outputs": [],
   "source": [
    "# Getting Draymond Green shot data\n",
    "green_url = 'http://stats.nba.com/stats/shotchartdetail?Period=0&VsConference=&LeagueID=00&LastNGames=0&TeamID=0&Position=&Location=&Outcome=&ContextMeasure=FGA&DateFrom=&StartPeriod=&DateTo=&OpponentTeamID=0&ContextFilter=&RangeType=&Season=2015-16&AheadBehind=&PlayerID=203110&EndRange=&VsDivision=&PointDiff=&RookieYear=&GameSegment=&Month=0&ClutchTime=&StartRange=&EndPeriod=&SeasonType=Regular+Season&SeasonSegment=&GameID='\n",
    "response = requests.get(green_url, headers=HEADERS)\n",
    "headers = response.json()['resultSets'][0]['headers']\n",
    "green_shots = response.json()['resultSets'][0]['rowSet']\n",
    "green_df = pd.DataFrame(green_shots, columns=headers)\n",
    "green_df.to_csv('/Users/MWoo/Documents/cs171_final/green_df.csv')"
   ]
  },
  {
   "cell_type": "code",
   "execution_count": 13,
   "metadata": {
    "collapsed": true
   },
   "outputs": [],
   "source": [
    "# Getting Festus Ezeli shot data\n",
    "ezeli_url = 'http://stats.nba.com/stats/shotchartdetail?Period=0&VsConference=&LeagueID=00&LastNGames=0&TeamID=0&Position=&Location=&Outcome=&ContextMeasure=FGA&DateFrom=&StartPeriod=&DateTo=&OpponentTeamID=0&ContextFilter=&RangeType=&Season=2015-16&AheadBehind=&PlayerID=203105&EndRange=&VsDivision=&PointDiff=&RookieYear=&GameSegment=&Month=0&ClutchTime=&StartRange=&EndPeriod=&SeasonType=Regular+Season&SeasonSegment=&GameID='\n",
    "response = requests.get(ezeli_url, headers=HEADERS)\n",
    "headers = response.json()['resultSets'][0]['headers']\n",
    "ezeli_shots = response.json()['resultSets'][0]['rowSet']\n",
    "ezeli_df = pd.DataFrame(ezeli_shots, columns=headers)\n",
    "ezeli_df.to_csv('/Users/MWoo/Documents/cs171_final/ezeli_df.csv')"
   ]
  },
  {
   "cell_type": "code",
   "execution_count": 14,
   "metadata": {
    "collapsed": true
   },
   "outputs": [],
   "source": [
    "# Getting Harrison Barnes shot data\n",
    "barnes_url = 'http://stats.nba.com/stats/shotchartdetail?Period=0&VsConference=&LeagueID=00&LastNGames=0&TeamID=0&Position=&Location=&Outcome=&ContextMeasure=FGA&DateFrom=&StartPeriod=&DateTo=&OpponentTeamID=0&ContextFilter=&RangeType=&Season=2015-16&AheadBehind=&PlayerID=203084&EndRange=&VsDivision=&PointDiff=&RookieYear=&GameSegment=&Month=0&ClutchTime=&StartRange=&EndPeriod=&SeasonType=Regular+Season&SeasonSegment=&GameID='\n",
    "response = requests.get(barnes_url, headers=HEADERS)\n",
    "headers = response.json()['resultSets'][0]['headers']\n",
    "barnes_shots = response.json()['resultSets'][0]['rowSet']\n",
    "barnes_df = pd.DataFrame(barnes_shots, columns=headers)\n",
    "barnes_df.to_csv('/Users/MWoo/Documents/cs171_final/barnes_df.csv')"
   ]
  },
  {
   "cell_type": "code",
   "execution_count": 15,
   "metadata": {
    "collapsed": true
   },
   "outputs": [],
   "source": [
    "# Getting Ian Clark shot data\n",
    "clark_url = 'http://stats.nba.com/stats/shotchartdetail?Period=0&VsConference=&LeagueID=00&LastNGames=0&TeamID=0&Position=&Location=&Outcome=&ContextMeasure=FGA&DateFrom=&StartPeriod=&DateTo=&OpponentTeamID=0&ContextFilter=&RangeType=&Season=2015-16&AheadBehind=&PlayerID=203546&EndRange=&VsDivision=&PointDiff=&RookieYear=&GameSegment=&Month=0&ClutchTime=&StartRange=&EndPeriod=&SeasonType=Regular+Season&SeasonSegment=&GameID='\n",
    "response = requests.get(clark_url, headers=HEADERS)\n",
    "headers = response.json()['resultSets'][0]['headers']\n",
    "clark_shots = response.json()['resultSets'][0]['rowSet']\n",
    "clark_df = pd.DataFrame(clark_shots, columns=headers)\n",
    "clark_df.to_csv('/Users/MWoo/Documents/cs171_final/clark_df.csv')"
   ]
  },
  {
   "cell_type": "code",
   "execution_count": 16,
   "metadata": {
    "collapsed": true
   },
   "outputs": [],
   "source": [
    "# Getting James McAdoo shot data\n",
    "mcadoo_url = 'http://stats.nba.com/stats/shotchartdetail?Period=0&VsConference=&LeagueID=00&LastNGames=0&TeamID=0&Position=&Location=&Outcome=&ContextMeasure=FGA&DateFrom=&StartPeriod=&DateTo=&OpponentTeamID=0&ContextFilter=&RangeType=&Season=2015-16&AheadBehind=&PlayerID=203949&EndRange=&VsDivision=&PointDiff=&RookieYear=&GameSegment=&Month=0&ClutchTime=&StartRange=&EndPeriod=&SeasonType=Regular+Season&SeasonSegment=&GameID='\n",
    "response = requests.get(mcadoo_url, headers=HEADERS)\n",
    "headers = response.json()['resultSets'][0]['headers']\n",
    "mcadoo_shots = response.json()['resultSets'][0]['rowSet']\n",
    "mcadoo_df = pd.DataFrame(mcadoo_shots, columns=headers)\n",
    "mcadoo_df.to_csv('/Users/MWoo/Documents/cs171_final/mcadoo_df.csv')"
   ]
  },
  {
   "cell_type": "code",
   "execution_count": 17,
   "metadata": {
    "collapsed": true
   },
   "outputs": [],
   "source": [
    "# Getting Kevon Looney shot data\n",
    "looney_url = 'http://stats.nba.com/stats/shotchartdetail?Period=0&VsConference=&LeagueID=00&LastNGames=0&TeamID=0&Position=&Location=&Outcome=&ContextMeasure=FGA&DateFrom=&StartPeriod=&DateTo=&OpponentTeamID=0&ContextFilter=&RangeType=&Season=2015-16&AheadBehind=&PlayerID=1626172&EndRange=&VsDivision=&PointDiff=&RookieYear=&GameSegment=&Month=0&ClutchTime=&StartRange=&EndPeriod=&SeasonType=Regular+Season&SeasonSegment=&GameID='\n",
    "response = requests.get(looney_url, headers=HEADERS)\n",
    "headers = response.json()['resultSets'][0]['headers']\n",
    "looney_shots = response.json()['resultSets'][0]['rowSet']\n",
    "looney_df = pd.DataFrame(looney_shots, columns=headers)\n",
    "looney_df.to_csv('/Users/MWoo/Documents/cs171_final/looney_df.csv')"
   ]
  },
  {
   "cell_type": "code",
   "execution_count": 18,
   "metadata": {
    "collapsed": true
   },
   "outputs": [],
   "source": [
    "# Getting Klay Thompson shot data\n",
    "thompson_url = 'http://stats.nba.com/stats/shotchartdetail?Period=0&VsConference=&LeagueID=00&LastNGames=0&TeamID=0&Position=&Location=&Outcome=&ContextMeasure=FGA&DateFrom=&StartPeriod=&DateTo=&OpponentTeamID=0&ContextFilter=&RangeType=&Season=2015-16&AheadBehind=&PlayerID=202691&EndRange=&VsDivision=&PointDiff=&RookieYear=&GameSegment=&Month=0&ClutchTime=&StartRange=&EndPeriod=&SeasonType=Regular+Season&SeasonSegment=&GameID='\n",
    "response = requests.get(thompson_url, headers=HEADERS)\n",
    "headers = response.json()['resultSets'][0]['headers']\n",
    "thompson_shots = response.json()['resultSets'][0]['rowSet']\n",
    "thompson_df = pd.DataFrame(thompson_shots, columns=headers)\n",
    "thompson_df.to_csv('/Users/MWoo/Documents/cs171_final/thompson_df.csv')"
   ]
  },
  {
   "cell_type": "code",
   "execution_count": 19,
   "metadata": {
    "collapsed": true
   },
   "outputs": [],
   "source": [
    "# Getting Leandro Barbosa shot data\n",
    "barbosa_url = 'http://stats.nba.com/stats/shotchartdetail?Period=0&VsConference=&LeagueID=00&LastNGames=0&TeamID=0&Position=&Location=&Outcome=&ContextMeasure=FGA&DateFrom=&StartPeriod=&DateTo=&OpponentTeamID=0&ContextFilter=&RangeType=&Season=2015-16&AheadBehind=&PlayerID=2571&EndRange=&VsDivision=&PointDiff=&RookieYear=&GameSegment=&Month=0&ClutchTime=&StartRange=&EndPeriod=&SeasonType=Regular+Season&SeasonSegment=&GameID='\n",
    "response = requests.get(barbosa_url, headers=HEADERS)\n",
    "headers = response.json()['resultSets'][0]['headers']\n",
    "barbosa_shots = response.json()['resultSets'][0]['rowSet']\n",
    "barbosa_df = pd.DataFrame(barbosa_shots, columns=headers)\n",
    "barbosa_df.to_csv('/Users/MWoo/Documents/cs171_final/barbosa_df.csv')"
   ]
  },
  {
   "cell_type": "code",
   "execution_count": 20,
   "metadata": {
    "collapsed": true
   },
   "outputs": [],
   "source": [
    "# Getting Marreese Speights shot data\n",
    "speights_url = 'http://stats.nba.com/stats/shotchartdetail?Period=0&VsConference=&LeagueID=00&LastNGames=0&TeamID=0&Position=&Location=&Outcome=&ContextMeasure=FGA&DateFrom=&StartPeriod=&DateTo=&OpponentTeamID=0&ContextFilter=&RangeType=&Season=2015-16&AheadBehind=&PlayerID=201578&EndRange=&VsDivision=&PointDiff=&RookieYear=&GameSegment=&Month=0&ClutchTime=&StartRange=&EndPeriod=&SeasonType=Regular+Season&SeasonSegment=&GameID='\n",
    "response = requests.get(speights_url, headers=HEADERS)\n",
    "headers = response.json()['resultSets'][0]['headers']\n",
    "speights_shots = response.json()['resultSets'][0]['rowSet']\n",
    "speights_df = pd.DataFrame(speights_shots, columns=headers)\n",
    "speights_df.to_csv('/Users/MWoo/Documents/cs171_final/speights_df.csv')"
   ]
  },
  {
   "cell_type": "code",
   "execution_count": 21,
   "metadata": {
    "collapsed": true
   },
   "outputs": [],
   "source": [
    "# Getting Shaun Livingston shot data\n",
    "livingston_url = 'http://stats.nba.com/stats/shotchartdetail?Period=0&VsConference=&LeagueID=00&LastNGames=0&TeamID=0&Position=&Location=&Outcome=&ContextMeasure=FGA&DateFrom=&StartPeriod=&DateTo=&OpponentTeamID=0&ContextFilter=&RangeType=&Season=2015-16&AheadBehind=&PlayerID=2733&EndRange=&VsDivision=&PointDiff=&RookieYear=&GameSegment=&Month=0&ClutchTime=&StartRange=&EndPeriod=&SeasonType=Regular+Season&SeasonSegment=&GameID='\n",
    "response = requests.get(livingston_url, headers=HEADERS)\n",
    "headers = response.json()['resultSets'][0]['headers']\n",
    "livingston_shots = response.json()['resultSets'][0]['rowSet']\n",
    "livingston_df = pd.DataFrame(livingston_shots, columns=headers)\n",
    "livingston_df.to_csv('/Users/MWoo/Documents/cs171_final/livingston_df.csv')"
   ]
  },
  {
   "cell_type": "code",
   "execution_count": 22,
   "metadata": {
    "collapsed": true
   },
   "outputs": [],
   "source": [
    "# Getting Shaun Livingston shot data\n",
    "curry_url = 'http://stats.nba.com/stats/shotchartdetail?Period=0&VsConference=&LeagueID=00&LastNGames=0&TeamID=0&Position=&Location=&Outcome=&ContextMeasure=FGA&DateFrom=&StartPeriod=&DateTo=&OpponentTeamID=0&ContextFilter=&RangeType=&Season=2015-16&AheadBehind=&PlayerID=201939&EndRange=&VsDivision=&PointDiff=&RookieYear=&GameSegment=&Month=0&ClutchTime=&StartRange=&EndPeriod=&SeasonType=Regular+Season&SeasonSegment=&GameID='\n",
    "response = requests.get(curry_url, headers=HEADERS)\n",
    "headers = response.json()['resultSets'][0]['headers']\n",
    "curry_shots = response.json()['resultSets'][0]['rowSet']\n",
    "curry_df = pd.DataFrame(curry_shots, columns=headers)\n",
    "curry_df.to_csv('/Users/MWoo/Documents/cs171_final/curry_df.csv')"
   ]
  },
  {
   "cell_type": "code",
   "execution_count": 23,
   "metadata": {
    "collapsed": false
   },
   "outputs": [
    {
     "data": {
      "text/html": [
       "<div>\n",
       "<table border=\"1\" class=\"dataframe\">\n",
       "  <thead>\n",
       "    <tr style=\"text-align: right;\">\n",
       "      <th></th>\n",
       "      <th>GRID_TYPE</th>\n",
       "      <th>GAME_ID</th>\n",
       "      <th>GAME_EVENT_ID</th>\n",
       "      <th>PLAYER_ID</th>\n",
       "      <th>PLAYER_NAME</th>\n",
       "      <th>TEAM_ID</th>\n",
       "      <th>TEAM_NAME</th>\n",
       "      <th>PERIOD</th>\n",
       "      <th>MINUTES_REMAINING</th>\n",
       "      <th>SECONDS_REMAINING</th>\n",
       "      <th>...</th>\n",
       "      <th>ACTION_TYPE</th>\n",
       "      <th>SHOT_TYPE</th>\n",
       "      <th>SHOT_ZONE_BASIC</th>\n",
       "      <th>SHOT_ZONE_AREA</th>\n",
       "      <th>SHOT_ZONE_RANGE</th>\n",
       "      <th>SHOT_DISTANCE</th>\n",
       "      <th>LOC_X</th>\n",
       "      <th>LOC_Y</th>\n",
       "      <th>SHOT_ATTEMPTED_FLAG</th>\n",
       "      <th>SHOT_MADE_FLAG</th>\n",
       "    </tr>\n",
       "  </thead>\n",
       "  <tbody>\n",
       "    <tr>\n",
       "      <th>0</th>\n",
       "      <td>Shot Chart Detail</td>\n",
       "      <td>0021500003</td>\n",
       "      <td>6</td>\n",
       "      <td>201939</td>\n",
       "      <td>Stephen Curry</td>\n",
       "      <td>1610612744</td>\n",
       "      <td>Golden State Warriors</td>\n",
       "      <td>1</td>\n",
       "      <td>10</td>\n",
       "      <td>56</td>\n",
       "      <td>...</td>\n",
       "      <td>Cutting Finger Roll Layup Shot</td>\n",
       "      <td>2PT Field Goal</td>\n",
       "      <td>Restricted Area</td>\n",
       "      <td>Center(C)</td>\n",
       "      <td>Less Than 8 ft.</td>\n",
       "      <td>3</td>\n",
       "      <td>12</td>\n",
       "      <td>31</td>\n",
       "      <td>1</td>\n",
       "      <td>1</td>\n",
       "    </tr>\n",
       "    <tr>\n",
       "      <th>1</th>\n",
       "      <td>Shot Chart Detail</td>\n",
       "      <td>0021500003</td>\n",
       "      <td>9</td>\n",
       "      <td>201939</td>\n",
       "      <td>Stephen Curry</td>\n",
       "      <td>1610612744</td>\n",
       "      <td>Golden State Warriors</td>\n",
       "      <td>1</td>\n",
       "      <td>10</td>\n",
       "      <td>29</td>\n",
       "      <td>...</td>\n",
       "      <td>Jump Shot</td>\n",
       "      <td>3PT Field Goal</td>\n",
       "      <td>Above the Break 3</td>\n",
       "      <td>Left Side Center(LC)</td>\n",
       "      <td>24+ ft.</td>\n",
       "      <td>26</td>\n",
       "      <td>-176</td>\n",
       "      <td>195</td>\n",
       "      <td>1</td>\n",
       "      <td>0</td>\n",
       "    </tr>\n",
       "    <tr>\n",
       "      <th>2</th>\n",
       "      <td>Shot Chart Detail</td>\n",
       "      <td>0021500003</td>\n",
       "      <td>14</td>\n",
       "      <td>201939</td>\n",
       "      <td>Stephen Curry</td>\n",
       "      <td>1610612744</td>\n",
       "      <td>Golden State Warriors</td>\n",
       "      <td>1</td>\n",
       "      <td>9</td>\n",
       "      <td>34</td>\n",
       "      <td>...</td>\n",
       "      <td>Layup Shot</td>\n",
       "      <td>2PT Field Goal</td>\n",
       "      <td>Restricted Area</td>\n",
       "      <td>Center(C)</td>\n",
       "      <td>Less Than 8 ft.</td>\n",
       "      <td>2</td>\n",
       "      <td>20</td>\n",
       "      <td>9</td>\n",
       "      <td>1</td>\n",
       "      <td>0</td>\n",
       "    </tr>\n",
       "    <tr>\n",
       "      <th>3</th>\n",
       "      <td>Shot Chart Detail</td>\n",
       "      <td>0021500003</td>\n",
       "      <td>19</td>\n",
       "      <td>201939</td>\n",
       "      <td>Stephen Curry</td>\n",
       "      <td>1610612744</td>\n",
       "      <td>Golden State Warriors</td>\n",
       "      <td>1</td>\n",
       "      <td>9</td>\n",
       "      <td>13</td>\n",
       "      <td>...</td>\n",
       "      <td>Jump Shot</td>\n",
       "      <td>3PT Field Goal</td>\n",
       "      <td>Above the Break 3</td>\n",
       "      <td>Left Side Center(LC)</td>\n",
       "      <td>24+ ft.</td>\n",
       "      <td>27</td>\n",
       "      <td>-197</td>\n",
       "      <td>193</td>\n",
       "      <td>1</td>\n",
       "      <td>1</td>\n",
       "    </tr>\n",
       "    <tr>\n",
       "      <th>4</th>\n",
       "      <td>Shot Chart Detail</td>\n",
       "      <td>0021500003</td>\n",
       "      <td>36</td>\n",
       "      <td>201939</td>\n",
       "      <td>Stephen Curry</td>\n",
       "      <td>1610612744</td>\n",
       "      <td>Golden State Warriors</td>\n",
       "      <td>1</td>\n",
       "      <td>7</td>\n",
       "      <td>11</td>\n",
       "      <td>...</td>\n",
       "      <td>Running Layup Shot</td>\n",
       "      <td>2PT Field Goal</td>\n",
       "      <td>Restricted Area</td>\n",
       "      <td>Center(C)</td>\n",
       "      <td>Less Than 8 ft.</td>\n",
       "      <td>0</td>\n",
       "      <td>-4</td>\n",
       "      <td>8</td>\n",
       "      <td>1</td>\n",
       "      <td>1</td>\n",
       "    </tr>\n",
       "  </tbody>\n",
       "</table>\n",
       "<p>5 rows × 21 columns</p>\n",
       "</div>"
      ],
      "text/plain": [
       "           GRID_TYPE     GAME_ID  GAME_EVENT_ID  PLAYER_ID    PLAYER_NAME  \\\n",
       "0  Shot Chart Detail  0021500003              6     201939  Stephen Curry   \n",
       "1  Shot Chart Detail  0021500003              9     201939  Stephen Curry   \n",
       "2  Shot Chart Detail  0021500003             14     201939  Stephen Curry   \n",
       "3  Shot Chart Detail  0021500003             19     201939  Stephen Curry   \n",
       "4  Shot Chart Detail  0021500003             36     201939  Stephen Curry   \n",
       "\n",
       "      TEAM_ID              TEAM_NAME  PERIOD  MINUTES_REMAINING  \\\n",
       "0  1610612744  Golden State Warriors       1                 10   \n",
       "1  1610612744  Golden State Warriors       1                 10   \n",
       "2  1610612744  Golden State Warriors       1                  9   \n",
       "3  1610612744  Golden State Warriors       1                  9   \n",
       "4  1610612744  Golden State Warriors       1                  7   \n",
       "\n",
       "   SECONDS_REMAINING       ...                           ACTION_TYPE  \\\n",
       "0                 56       ...        Cutting Finger Roll Layup Shot   \n",
       "1                 29       ...                             Jump Shot   \n",
       "2                 34       ...                            Layup Shot   \n",
       "3                 13       ...                             Jump Shot   \n",
       "4                 11       ...                    Running Layup Shot   \n",
       "\n",
       "        SHOT_TYPE    SHOT_ZONE_BASIC        SHOT_ZONE_AREA  SHOT_ZONE_RANGE  \\\n",
       "0  2PT Field Goal    Restricted Area             Center(C)  Less Than 8 ft.   \n",
       "1  3PT Field Goal  Above the Break 3  Left Side Center(LC)          24+ ft.   \n",
       "2  2PT Field Goal    Restricted Area             Center(C)  Less Than 8 ft.   \n",
       "3  3PT Field Goal  Above the Break 3  Left Side Center(LC)          24+ ft.   \n",
       "4  2PT Field Goal    Restricted Area             Center(C)  Less Than 8 ft.   \n",
       "\n",
       "  SHOT_DISTANCE  LOC_X  LOC_Y  SHOT_ATTEMPTED_FLAG  SHOT_MADE_FLAG  \n",
       "0             3     12     31                    1               1  \n",
       "1            26   -176    195                    1               0  \n",
       "2             2     20      9                    1               0  \n",
       "3            27   -197    193                    1               1  \n",
       "4             0     -4      8                    1               1  \n",
       "\n",
       "[5 rows x 21 columns]"
      ]
     },
     "execution_count": 23,
     "metadata": {},
     "output_type": "execute_result"
    }
   ],
   "source": [
    "curry_df.head()"
   ]
  },
  {
   "cell_type": "code",
   "execution_count": 24,
   "metadata": {
    "collapsed": true
   },
   "outputs": [],
   "source": [
    "frames = [varejao_df, iguodala_df, bogut_df, rush_df, green_df, ezeli_df, barnes_df, clark_df, mcadoo_df, looney_df, thompson_df, barbosa_df, speights_df, livingston_df, curry_df]"
   ]
  },
  {
   "cell_type": "code",
   "execution_count": 25,
   "metadata": {
    "collapsed": true
   },
   "outputs": [],
   "source": [
    "result = pd.concat(frames)"
   ]
  },
  {
   "cell_type": "code",
   "execution_count": 26,
   "metadata": {
    "collapsed": true
   },
   "outputs": [],
   "source": [
    "result.to_csv('/Users/MWoo/Documents/cs171_final/team_df.csv')"
   ]
  },
  {
   "cell_type": "code",
   "execution_count": null,
   "metadata": {
    "collapsed": true
   },
   "outputs": [],
   "source": []
  }
 ],
 "metadata": {
  "kernelspec": {
   "display_name": "Python 2",
   "language": "python",
   "name": "python2"
  },
  "language_info": {
   "codemirror_mode": {
    "name": "ipython",
    "version": 2
   },
   "file_extension": ".py",
   "mimetype": "text/x-python",
   "name": "python",
   "nbconvert_exporter": "python",
   "pygments_lexer": "ipython2",
   "version": "2.7.11"
  }
 },
 "nbformat": 4,
 "nbformat_minor": 0
}
